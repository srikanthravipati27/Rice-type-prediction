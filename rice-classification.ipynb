{
 "cells": [
  {
   "cell_type": "code",
   "execution_count": 2,
   "id": "a68a9e47",
   "metadata": {},
   "outputs": [
    {
     "name": "stdout",
     "output_type": "stream",
     "text": [
      "Collecting tensorflow==2.3.2\n",
      "  Using cached tensorflow-2.3.2-cp37-cp37m-win_amd64.whl (342.5 MB)\n",
      "Requirement already satisfied: tensorflow-estimator<2.4.0,>=2.3.0 in c:\\users\\srika\\anaconda3\\envs\\rice-env\\lib\\site-packages (from tensorflow==2.3.2) (2.3.0)\n",
      "Collecting tensorboard<3,>=2.3.0\n",
      "  Using cached tensorboard-2.11.2-py3-none-any.whl (6.0 MB)\n",
      "Collecting h5py<2.11.0,>=2.10.0\n",
      "  Using cached h5py-2.10.0-cp37-cp37m-win_amd64.whl (2.5 MB)\n",
      "Requirement already satisfied: termcolor>=1.1.0 in c:\\users\\srika\\anaconda3\\envs\\rice-env\\lib\\site-packages (from tensorflow==2.3.2) (2.3.0)\n",
      "Collecting google-pasta>=0.1.8\n",
      "  Using cached google_pasta-0.2.0-py3-none-any.whl (57 kB)\n",
      "Collecting absl-py>=0.7.0\n",
      "  Using cached absl_py-2.1.0-py3-none-any.whl (133 kB)\n",
      "Collecting opt-einsum>=2.3.2\n",
      "  Using cached opt_einsum-3.3.0-py3-none-any.whl (65 kB)\n",
      "Requirement already satisfied: numpy<1.19.0,>=1.16.0 in c:\\users\\srika\\anaconda3\\envs\\rice-env\\lib\\site-packages (from tensorflow==2.3.2) (1.18.5)\n",
      "Collecting gast==0.3.3\n",
      "  Using cached gast-0.3.3-py2.py3-none-any.whl (9.7 kB)\n",
      "Collecting astunparse==1.6.3\n",
      "  Using cached astunparse-1.6.3-py2.py3-none-any.whl (12 kB)\n",
      "Collecting grpcio>=1.8.6\n",
      "  Using cached grpcio-1.62.3-cp37-cp37m-win_amd64.whl (4.5 MB)\n",
      "Collecting keras-preprocessing<1.2,>=1.1.1\n",
      "  Using cached Keras_Preprocessing-1.1.2-py2.py3-none-any.whl (42 kB)\n",
      "Requirement already satisfied: six>=1.12.0 in c:\\users\\srika\\anaconda3\\envs\\rice-env\\lib\\site-packages (from tensorflow==2.3.2) (1.16.0)\n",
      "Requirement already satisfied: protobuf>=3.9.2 in c:\\users\\srika\\anaconda3\\envs\\rice-env\\lib\\site-packages (from tensorflow==2.3.2) (3.20.3)\n",
      "Requirement already satisfied: wheel>=0.26 in c:\\users\\srika\\anaconda3\\envs\\rice-env\\lib\\site-packages (from tensorflow==2.3.2) (0.38.4)\n",
      "Requirement already satisfied: wrapt>=1.11.1 in c:\\users\\srika\\anaconda3\\envs\\rice-env\\lib\\site-packages (from tensorflow==2.3.2) (1.16.0)\n",
      "Requirement already satisfied: tensorboard-plugin-wit>=1.6.0 in c:\\users\\srika\\anaconda3\\envs\\rice-env\\lib\\site-packages (from tensorboard<3,>=2.3.0->tensorflow==2.3.2) (1.8.1)\n",
      "Collecting werkzeug>=1.0.1\n",
      "  Using cached Werkzeug-2.2.3-py3-none-any.whl (233 kB)\n",
      "Collecting markdown>=2.6.8\n",
      "  Using cached Markdown-3.4.4-py3-none-any.whl (94 kB)\n",
      "Requirement already satisfied: tensorboard-data-server<0.7.0,>=0.6.0 in c:\\users\\srika\\anaconda3\\envs\\rice-env\\lib\\site-packages (from tensorboard<3,>=2.3.0->tensorflow==2.3.2) (0.6.1)\n",
      "Collecting google-auth<3,>=1.6.3\n",
      "  Using cached google_auth-2.40.3-py2.py3-none-any.whl (216 kB)\n",
      "Requirement already satisfied: setuptools>=41.0.0 in c:\\users\\srika\\anaconda3\\envs\\rice-env\\lib\\site-packages (from tensorboard<3,>=2.3.0->tensorflow==2.3.2) (65.6.3)\n",
      "Collecting google-auth-oauthlib<0.5,>=0.4.1\n",
      "  Using cached google_auth_oauthlib-0.4.6-py2.py3-none-any.whl (18 kB)\n",
      "Collecting requests<3,>=2.21.0\n",
      "  Using cached requests-2.31.0-py3-none-any.whl (62 kB)\n",
      "Collecting rsa<5,>=3.1.4\n",
      "  Using cached rsa-4.9.1-py3-none-any.whl (34 kB)\n",
      "Collecting cachetools<6.0,>=2.0.0\n",
      "  Using cached cachetools-5.5.2-py3-none-any.whl (10 kB)\n",
      "Collecting pyasn1-modules>=0.2.1\n",
      "  Using cached pyasn1_modules-0.3.0-py2.py3-none-any.whl (181 kB)\n",
      "Collecting requests-oauthlib>=0.7.0\n",
      "  Using cached requests_oauthlib-2.0.0-py2.py3-none-any.whl (24 kB)\n",
      "Collecting importlib-metadata>=4.4\n",
      "  Using cached importlib_metadata-6.7.0-py3-none-any.whl (22 kB)\n",
      "Collecting idna<4,>=2.5\n",
      "  Using cached idna-3.10-py3-none-any.whl (70 kB)\n",
      "Collecting charset-normalizer<4,>=2\n",
      "  Using cached charset_normalizer-3.4.2-cp37-cp37m-win_amd64.whl (103 kB)\n",
      "Requirement already satisfied: certifi>=2017.4.17 in c:\\users\\srika\\anaconda3\\envs\\rice-env\\lib\\site-packages (from requests<3,>=2.21.0->tensorboard<3,>=2.3.0->tensorflow==2.3.2) (2024.8.30)\n",
      "Requirement already satisfied: urllib3<3,>=1.21.1 in c:\\users\\srika\\anaconda3\\envs\\rice-env\\lib\\site-packages (from requests<3,>=2.21.0->tensorboard<3,>=2.3.0->tensorflow==2.3.2) (2.0.7)\n",
      "Collecting MarkupSafe>=2.1.1\n",
      "  Using cached MarkupSafe-2.1.5-cp37-cp37m-win_amd64.whl (17 kB)\n",
      "Requirement already satisfied: zipp>=0.5 in c:\\users\\srika\\anaconda3\\envs\\rice-env\\lib\\site-packages (from importlib-metadata>=4.4->markdown>=2.6.8->tensorboard<3,>=2.3.0->tensorflow==2.3.2) (3.15.0)\n",
      "Requirement already satisfied: typing-extensions>=3.6.4 in c:\\users\\srika\\anaconda3\\envs\\rice-env\\lib\\site-packages (from importlib-metadata>=4.4->markdown>=2.6.8->tensorboard<3,>=2.3.0->tensorflow==2.3.2) (4.7.1)\n",
      "Requirement already satisfied: pyasn1<0.6.0,>=0.4.6 in c:\\users\\srika\\anaconda3\\envs\\rice-env\\lib\\site-packages (from pyasn1-modules>=0.2.1->google-auth<3,>=1.6.3->tensorboard<3,>=2.3.0->tensorflow==2.3.2) (0.5.1)\n",
      "Requirement already satisfied: oauthlib>=3.0.0 in c:\\users\\srika\\anaconda3\\envs\\rice-env\\lib\\site-packages (from requests-oauthlib>=0.7.0->google-auth-oauthlib<0.5,>=0.4.1->tensorboard<3,>=2.3.0->tensorflow==2.3.2) (3.2.2)\n",
      "Installing collected packages: rsa, pyasn1-modules, opt-einsum, MarkupSafe, keras-preprocessing, importlib-metadata, idna, h5py, grpcio, google-pasta, gast, charset-normalizer, cachetools, astunparse, absl-py, werkzeug, requests, markdown, google-auth, requests-oauthlib, google-auth-oauthlib, tensorboard, tensorflow\n",
      "Successfully installed MarkupSafe-2.1.5 absl-py-2.1.0 astunparse-1.6.3 cachetools-5.5.2 charset-normalizer-3.4.2 gast-0.3.3 google-auth-2.40.3 google-auth-oauthlib-0.4.6 google-pasta-0.2.0 grpcio-1.62.3 h5py-2.10.0 idna-3.10 importlib-metadata-6.7.0 keras-preprocessing-1.1.2 markdown-3.4.4 opt-einsum-3.3.0 pyasn1-modules-0.3.0 requests-2.31.0 requests-oauthlib-2.0.0 rsa-4.9.1 tensorboard-2.11.2 tensorflow-2.3.2 werkzeug-2.2.3\n",
      "Note: you may need to restart the kernel to use updated packages.\n"
     ]
    }
   ],
   "source": [
    "pip install tensorflow==2.3.2"
   ]
  },
  {
   "cell_type": "code",
   "execution_count": 44,
   "id": "a4809961",
   "metadata": {},
   "outputs": [],
   "source": [
    "import numpy as np\n",
    "import os\n",
    "import cv2\n",
    "import matplotlib.pyplot as plt\n",
    "from sklearn.model_selection import train_test_split\n",
    "from tensorflow.keras.applications import MobileNetV2\n",
    "\n",
    "from tensorflow.keras.models import Model\n",
    "from tensorflow.keras.layers import Dense, GlobalAveragePooling2D\n",
    "from tensorflow.keras.preprocessing.image import ImageDataGenerator\n",
    "from tensorflow.keras.models import load_model\n",
    "from tensorflow.keras.utils import to_categorical\n",
    "\n",
    "# Set image dimensions\n",
    "\n"
   ]
  },
  {
   "cell_type": "code",
   "execution_count": null,
   "id": "d7d26143",
   "metadata": {},
   "outputs": [],
   "source": []
  },
  {
   "cell_type": "code",
   "execution_count": 45,
   "id": "9043f70b",
   "metadata": {},
   "outputs": [],
   "source": [
    "IMG_SIZE = 224\n",
    "BATCH_SIZE = 32\n",
    "\n",
    "# Load and preprocess data\n",
    "data_dir = \"Data\"\n",
    "classes = ['Arborio', 'Basmati', 'Ipsala', 'Jasmine', 'Karacadag']\n",
    "X, y = [], []\n",
    "\n",
    "for idx, label in enumerate(classes):\n",
    "    folder_path = os.path.join(data_dir, 'train', label)\n",
    "    for file in os.listdir(folder_path):\n",
    "        img_path = os.path.join(folder_path, file)\n",
    "        img = cv2.imread(img_path)\n",
    "        img = cv2.resize(img, (IMG_SIZE, IMG_SIZE))\n",
    "        X.append(img)\n",
    "        y.append(idx)\n"
   ]
  },
  {
   "cell_type": "code",
   "execution_count": 51,
   "id": "a6504cb6",
   "metadata": {},
   "outputs": [],
   "source": [
    "X=X[:5000]\n",
    "y=y[:5000]\n",
    "X = np.array(X, dtype='float32') / 255.0\n",
    "y = to_categorical(np.array(y))\n",
    "\n",
    "\n",
    "\n",
    "\n",
    "X_train, X_val, y_train, y_val = train_test_split(X, y, test_size=0.2)\n",
    "\n",
    "# Data augmentation\n",
    "datagen = ImageDataGenerator(rotation_range=20, zoom_range=0.15,\n",
    "                             width_shift_range=0.2, height_shift_range=0.2, horizontal_flip=True)\n"
   ]
  },
  {
   "cell_type": "code",
   "execution_count": 52,
   "id": "bf2880cf",
   "metadata": {},
   "outputs": [],
   "source": [
    "\n",
    "# Model Building\n",
    "base_model = MobileNetV2(include_top=False, weights='imagenet', input_shape=(IMG_SIZE, IMG_SIZE, 3))\n",
    "base_model.trainable = False\n",
    "x = base_model.output\n",
    "x = GlobalAveragePooling2D()(x)\n",
    "x = Dense(128, activation='relu')(x)\n",
    "outputs = Dense(len(classes), activation='softmax')(x)\n",
    "model = Model(inputs=base_model.input, outputs=outputs)\n"
   ]
  },
  {
   "cell_type": "code",
   "execution_count": null,
   "id": "0c150249",
   "metadata": {},
   "outputs": [],
   "source": [
    "model.compile(optimizer='adam',\n",
    "              loss='sparse_categorical_crossentropy',\n",
    "              metrics=['accuracy'])\n",
    "\n",
    "history = model.fit(datagen.flow(X_train, y_train, batch_size=BATCH_SIZE),\n",
    "                    validation_data=(X_val, y_val),\n",
    "                    epochs=4)\n",
    "model.save(\"rice.h5\")"
   ]
  }
 ],
 "metadata": {
  "kernelspec": {
   "display_name": "rice-env",
   "language": "python",
   "name": "python3"
  },
  "language_info": {
   "codemirror_mode": {
    "name": "ipython",
    "version": 3
   },
   "file_extension": ".py",
   "mimetype": "text/x-python",
   "name": "python",
   "nbconvert_exporter": "python",
   "pygments_lexer": "ipython3",
   "version": "3.7.12"
  }
 },
 "nbformat": 4,
 "nbformat_minor": 5
}
