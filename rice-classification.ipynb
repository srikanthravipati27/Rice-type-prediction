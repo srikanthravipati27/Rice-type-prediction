{
 "cells": [
  {
   "cell_type": "code",
   "execution_count": 1,
   "id": "a68a9e47",
   "metadata": {},
   "outputs": [
    {
     "name": "stdout",
     "output_type": "stream",
     "text": [
      "Requirement already satisfied: tensorflow==2.3.2 in c:\\users\\srika\\anaconda3\\envs\\rice-env\\lib\\site-packages (2.3.2)\n",
      "Requirement already satisfied: wrapt>=1.11.1 in c:\\users\\srika\\anaconda3\\envs\\rice-env\\lib\\site-packages (from tensorflow==2.3.2) (1.16.0)\n",
      "Requirement already satisfied: tensorflow-estimator<2.4.0,>=2.3.0 in c:\\users\\srika\\anaconda3\\envs\\rice-env\\lib\\site-packages (from tensorflow==2.3.2) (2.3.0)\n",
      "Requirement already satisfied: opt-einsum>=2.3.2 in c:\\users\\srika\\anaconda3\\envs\\rice-env\\lib\\site-packages (from tensorflow==2.3.2) (3.3.0)\n",
      "Requirement already satisfied: gast==0.3.3 in c:\\users\\srika\\anaconda3\\envs\\rice-env\\lib\\site-packages (from tensorflow==2.3.2) (0.3.3)\n",
      "Requirement already satisfied: absl-py>=0.7.0 in c:\\users\\srika\\anaconda3\\envs\\rice-env\\lib\\site-packages (from tensorflow==2.3.2) (2.1.0)\n",
      "Requirement already satisfied: protobuf>=3.9.2 in c:\\users\\srika\\anaconda3\\envs\\rice-env\\lib\\site-packages (from tensorflow==2.3.2) (3.20.3)\n",
      "Requirement already satisfied: wheel>=0.26 in c:\\users\\srika\\anaconda3\\envs\\rice-env\\lib\\site-packages (from tensorflow==2.3.2) (0.38.4)\n",
      "Requirement already satisfied: keras-preprocessing<1.2,>=1.1.1 in c:\\users\\srika\\anaconda3\\envs\\rice-env\\lib\\site-packages (from tensorflow==2.3.2) (1.1.2)\n",
      "Requirement already satisfied: tensorboard<3,>=2.3.0 in c:\\users\\srika\\anaconda3\\envs\\rice-env\\lib\\site-packages (from tensorflow==2.3.2) (2.11.2)\n",
      "Requirement already satisfied: h5py<2.11.0,>=2.10.0 in c:\\users\\srika\\anaconda3\\envs\\rice-env\\lib\\site-packages (from tensorflow==2.3.2) (2.10.0)\n",
      "Requirement already satisfied: numpy<1.19.0,>=1.16.0 in c:\\users\\srika\\anaconda3\\envs\\rice-env\\lib\\site-packages (from tensorflow==2.3.2) (1.18.5)\n",
      "Requirement already satisfied: termcolor>=1.1.0 in c:\\users\\srika\\anaconda3\\envs\\rice-env\\lib\\site-packages (from tensorflow==2.3.2) (2.3.0)\n",
      "Requirement already satisfied: six>=1.12.0 in c:\\users\\srika\\anaconda3\\envs\\rice-env\\lib\\site-packages (from tensorflow==2.3.2) (1.16.0)\n",
      "Requirement already satisfied: google-pasta>=0.1.8 in c:\\users\\srika\\anaconda3\\envs\\rice-env\\lib\\site-packages (from tensorflow==2.3.2) (0.2.0)\n",
      "Requirement already satisfied: astunparse==1.6.3 in c:\\users\\srika\\anaconda3\\envs\\rice-env\\lib\\site-packages (from tensorflow==2.3.2) (1.6.3)\n",
      "Requirement already satisfied: grpcio>=1.8.6 in c:\\users\\srika\\anaconda3\\envs\\rice-env\\lib\\site-packages (from tensorflow==2.3.2) (1.62.3)\n",
      "Requirement already satisfied: markdown>=2.6.8 in c:\\users\\srika\\anaconda3\\envs\\rice-env\\lib\\site-packages (from tensorboard<3,>=2.3.0->tensorflow==2.3.2) (3.4.4)\n",
      "Requirement already satisfied: setuptools>=41.0.0 in c:\\users\\srika\\anaconda3\\envs\\rice-env\\lib\\site-packages (from tensorboard<3,>=2.3.0->tensorflow==2.3.2) (65.6.3)\n",
      "Requirement already satisfied: werkzeug>=1.0.1 in c:\\users\\srika\\anaconda3\\envs\\rice-env\\lib\\site-packages (from tensorboard<3,>=2.3.0->tensorflow==2.3.2) (2.2.3)\n",
      "Requirement already satisfied: google-auth-oauthlib<0.5,>=0.4.1 in c:\\users\\srika\\anaconda3\\envs\\rice-env\\lib\\site-packages (from tensorboard<3,>=2.3.0->tensorflow==2.3.2) (0.4.6)\n",
      "Requirement already satisfied: requests<3,>=2.21.0 in c:\\users\\srika\\anaconda3\\envs\\rice-env\\lib\\site-packages (from tensorboard<3,>=2.3.0->tensorflow==2.3.2) (2.31.0)\n",
      "Requirement already satisfied: tensorboard-data-server<0.7.0,>=0.6.0 in c:\\users\\srika\\anaconda3\\envs\\rice-env\\lib\\site-packages (from tensorboard<3,>=2.3.0->tensorflow==2.3.2) (0.6.1)\n",
      "Requirement already satisfied: google-auth<3,>=1.6.3 in c:\\users\\srika\\anaconda3\\envs\\rice-env\\lib\\site-packages (from tensorboard<3,>=2.3.0->tensorflow==2.3.2) (2.40.3)\n",
      "Requirement already satisfied: tensorboard-plugin-wit>=1.6.0 in c:\\users\\srika\\anaconda3\\envs\\rice-env\\lib\\site-packages (from tensorboard<3,>=2.3.0->tensorflow==2.3.2) (1.8.1)\n",
      "Requirement already satisfied: cachetools<6.0,>=2.0.0 in c:\\users\\srika\\anaconda3\\envs\\rice-env\\lib\\site-packages (from google-auth<3,>=1.6.3->tensorboard<3,>=2.3.0->tensorflow==2.3.2) (5.5.2)\n",
      "Requirement already satisfied: pyasn1-modules>=0.2.1 in c:\\users\\srika\\anaconda3\\envs\\rice-env\\lib\\site-packages (from google-auth<3,>=1.6.3->tensorboard<3,>=2.3.0->tensorflow==2.3.2) (0.3.0)\n",
      "Requirement already satisfied: rsa<5,>=3.1.4 in c:\\users\\srika\\anaconda3\\envs\\rice-env\\lib\\site-packages (from google-auth<3,>=1.6.3->tensorboard<3,>=2.3.0->tensorflow==2.3.2) (4.9.1)\n",
      "Requirement already satisfied: requests-oauthlib>=0.7.0 in c:\\users\\srika\\anaconda3\\envs\\rice-env\\lib\\site-packages (from google-auth-oauthlib<0.5,>=0.4.1->tensorboard<3,>=2.3.0->tensorflow==2.3.2) (2.0.0)\n",
      "Requirement already satisfied: importlib-metadata>=4.4 in c:\\users\\srika\\anaconda3\\envs\\rice-env\\lib\\site-packages (from markdown>=2.6.8->tensorboard<3,>=2.3.0->tensorflow==2.3.2) (6.7.0)\n",
      "Requirement already satisfied: charset-normalizer<4,>=2 in c:\\users\\srika\\anaconda3\\envs\\rice-env\\lib\\site-packages (from requests<3,>=2.21.0->tensorboard<3,>=2.3.0->tensorflow==2.3.2) (3.4.2)\n",
      "Requirement already satisfied: urllib3<3,>=1.21.1 in c:\\users\\srika\\anaconda3\\envs\\rice-env\\lib\\site-packages (from requests<3,>=2.21.0->tensorboard<3,>=2.3.0->tensorflow==2.3.2) (2.0.7)\n",
      "Requirement already satisfied: certifi>=2017.4.17 in c:\\users\\srika\\anaconda3\\envs\\rice-env\\lib\\site-packages (from requests<3,>=2.21.0->tensorboard<3,>=2.3.0->tensorflow==2.3.2) (2024.8.30)\n",
      "Requirement already satisfied: idna<4,>=2.5 in c:\\users\\srika\\anaconda3\\envs\\rice-env\\lib\\site-packages (from requests<3,>=2.21.0->tensorboard<3,>=2.3.0->tensorflow==2.3.2) (3.10)\n",
      "Requirement already satisfied: MarkupSafe>=2.1.1 in c:\\users\\srika\\anaconda3\\envs\\rice-env\\lib\\site-packages (from werkzeug>=1.0.1->tensorboard<3,>=2.3.0->tensorflow==2.3.2) (2.1.5)\n",
      "Requirement already satisfied: zipp>=0.5 in c:\\users\\srika\\anaconda3\\envs\\rice-env\\lib\\site-packages (from importlib-metadata>=4.4->markdown>=2.6.8->tensorboard<3,>=2.3.0->tensorflow==2.3.2) (3.15.0)\n",
      "Requirement already satisfied: typing-extensions>=3.6.4 in c:\\users\\srika\\anaconda3\\envs\\rice-env\\lib\\site-packages (from importlib-metadata>=4.4->markdown>=2.6.8->tensorboard<3,>=2.3.0->tensorflow==2.3.2) (4.7.1)\n",
      "Requirement already satisfied: pyasn1<0.6.0,>=0.4.6 in c:\\users\\srika\\anaconda3\\envs\\rice-env\\lib\\site-packages (from pyasn1-modules>=0.2.1->google-auth<3,>=1.6.3->tensorboard<3,>=2.3.0->tensorflow==2.3.2) (0.5.1)\n",
      "Requirement already satisfied: oauthlib>=3.0.0 in c:\\users\\srika\\anaconda3\\envs\\rice-env\\lib\\site-packages (from requests-oauthlib>=0.7.0->google-auth-oauthlib<0.5,>=0.4.1->tensorboard<3,>=2.3.0->tensorflow==2.3.2) (3.2.2)\n",
      "Note: you may need to restart the kernel to use updated packages.\n"
     ]
    }
   ],
   "source": [
    "pip install tensorflow==2.3.2"
   ]
  },
  {
   "cell_type": "code",
   "execution_count": 2,
   "id": "a4809961",
   "metadata": {},
   "outputs": [],
   "source": [
    "import numpy as np\n",
    "import os\n",
    "import cv2\n",
    "import matplotlib.pyplot as plt\n",
    "from sklearn.model_selection import train_test_split\n",
    "from tensorflow.keras.applications import MobileNetV2\n",
    "\n",
    "from tensorflow.keras.models import Model\n",
    "from tensorflow.keras.layers import Dense, GlobalAveragePooling2D\n",
    "from tensorflow.keras.preprocessing.image import ImageDataGenerator\n",
    "from tensorflow.keras.models import load_model\n",
    "from tensorflow.keras.utils import to_categorical\n",
    "from tensorflow.keras.optimizers import Adam\n",
    "\n",
    "# Set image dimensions\n",
    "\n"
   ]
  },
  {
   "cell_type": "code",
   "execution_count": null,
   "id": "d7d26143",
   "metadata": {},
   "outputs": [],
   "source": []
  },
  {
   "cell_type": "code",
   "execution_count": 3,
   "id": "9043f70b",
   "metadata": {},
   "outputs": [
    {
     "name": "stdout",
     "output_type": "stream",
     "text": [
      "Found 75000 images belonging to 5 classes.\n"
     ]
    }
   ],
   "source": [
    "IMG_SIZE = 224\n",
    "BATCH_SIZE = 32\n",
    "EPOCHS = 1\n",
    "NUM_CLASSES = 5\n",
    "\n",
    "# Data paths\n",
    "train_dir = \"Data/train\"\n",
    "val_dir = \"Data/validation\"\n",
    "\n",
    "# Data generators\n",
    "train_datagen = ImageDataGenerator(rescale=1./255,\n",
    "                                   rotation_range=20,\n",
    "                                   zoom_range=0.15,\n",
    "                                   width_shift_range=0.2,\n",
    "                                   height_shift_range=0.2,\n",
    "                                   horizontal_flip=True)\n",
    "\n",
    "val_datagen = ImageDataGenerator(rescale=1./255)\n",
    "\n",
    "train_generator = train_datagen.flow_from_directory(\n",
    "    train_dir,\n",
    "    target_size=(IMG_SIZE, IMG_SIZE),\n",
    "    batch_size=BATCH_SIZE,\n",
    "    class_mode='categorical'\n",
    ")\n",
    "\n",
    "\n"
   ]
  },
  {
   "cell_type": "code",
   "execution_count": 4,
   "id": "a6504cb6",
   "metadata": {},
   "outputs": [],
   "source": [
    "base_model = MobileNetV2(include_top=False, weights='imagenet', input_shape=(IMG_SIZE, IMG_SIZE, 3))\n",
    "base_model.trainable = False\n",
    "\n",
    "x = base_model.output\n",
    "x = GlobalAveragePooling2D()(x)\n",
    "x = Dense(128, activation='relu')(x)\n",
    "outputs = Dense(NUM_CLASSES, activation='softmax')(x)\n"
   ]
  },
  {
   "cell_type": "code",
   "execution_count": 5,
   "id": "bf2880cf",
   "metadata": {},
   "outputs": [],
   "source": [
    "model = Model(inputs=base_model.input, outputs=outputs)\n",
    "model.compile(optimizer=Adam(),\n",
    "              loss='categorical_crossentropy',  # FIXED\n",
    "              metrics=['accuracy'])\n"
   ]
  },
  {
   "cell_type": "code",
   "execution_count": 6,
   "id": "0c150249",
   "metadata": {},
   "outputs": [
    {
     "name": "stdout",
     "output_type": "stream",
     "text": [
      "100/100 [==============================] - 221s 2s/step - loss: 0.2539 - accuracy: 0.9159\n"
     ]
    }
   ],
   "source": [
    "model.fit(train_generator,\n",
    "          steps_per_epoch=100,\n",
    "          epochs=EPOCHS)\n",
    "\n",
    "# Save model\n",
    "model.save(\"rice.h5\")\n"
   ]
  }
 ],
 "metadata": {
  "kernelspec": {
   "display_name": "rice-env",
   "language": "python",
   "name": "python3"
  },
  "language_info": {
   "codemirror_mode": {
    "name": "ipython",
    "version": 3
   },
   "file_extension": ".py",
   "mimetype": "text/x-python",
   "name": "python",
   "nbconvert_exporter": "python",
   "pygments_lexer": "ipython3",
   "version": "3.7.12"
  }
 },
 "nbformat": 4,
 "nbformat_minor": 5
}
